{
 "cells": [
  {
   "cell_type": "code",
   "execution_count": 1,
   "id": "960c0123",
   "metadata": {},
   "outputs": [],
   "source": [
    "import os, io, zipfile, requests, pandas as pd, pycountry\n",
    "\n",
    "RAW_EXT = \"data/raw/external\"\n",
    "os.makedirs(RAW_EXT, exist_ok=True)\n",
    "\n",
    "def clean_iso(df, col=\"iso3\"):\n",
    "    df[col] = df[col].str.strip().str.upper()\n",
    "    good    = {c.alpha_3 for c in pycountry.countries}\n",
    "    return df[df[col].isin(good)].copy()"
   ]
  },
  {
   "cell_type": "code",
   "execution_count": 2,
   "id": "3894d618",
   "metadata": {},
   "outputs": [
    {
     "name": "stdout",
     "output_type": "stream",
     "text": [
      "✅ literacy rows: 95\n"
     ]
    }
   ],
   "source": [
    "url = (\"https://api.worldbank.org/v2/country/all/indicator/SE.ADT.LITR.ZS\"\n",
    "       \"?format=json&per_page=20000&mrv=3\")\n",
    "_, data = requests.get(url, timeout=30).json()\n",
    "\n",
    "lit = (pd.json_normalize(data)\n",
    "         .loc[:, [\"countryiso3code\", \"date\", \"value\"]]\n",
    "         .rename(columns={\"countryiso3code\": \"iso3\", \"date\": \"year\"}))\n",
    "\n",
    "lit[\"year\"]  = lit[\"year\"].astype(int)\n",
    "lit[\"value\"] = pd.to_numeric(lit[\"value\"], errors=\"coerce\")\n",
    "\n",
    "# keep latest non-null per country\n",
    "lit = (lit.dropna(subset=[\"value\"])\n",
    "          .sort_values(\"year\")\n",
    "          .drop_duplicates(\"iso3\", keep=\"last\"))\n",
    "lit = clean_iso(lit)\n",
    "\n",
    "lit.to_csv(f\"{RAW_EXT}/literacy_rate_unesco.csv\", index=False)\n",
    "print(\"✅ literacy rows:\", len(lit))"
   ]
  },
  {
   "cell_type": "code",
   "execution_count": 6,
   "id": "cf22df55",
   "metadata": {},
   "outputs": [
    {
     "name": "stdout",
     "output_type": "stream",
     "text": [
      "✅ inflation rows: 175 | snapshot years span: 2022 – 2024\n"
     ]
    }
   ],
   "source": [
    "# Inflation, consumer prices (annual %)  — indicator FP.CPI.TOTL.ZG\n",
    "url = (\"https://api.worldbank.org/v2/country/all/indicator/FP.CPI.TOTL.ZG\"\n",
    "       \"?format=json&per_page=20000&mrv=3\")          # last 3 years\n",
    "\n",
    "_, data = requests.get(url, timeout=30).json()\n",
    "\n",
    "infl = (pd.json_normalize(data)\n",
    "          .loc[:, [\"countryiso3code\", \"date\", \"value\"]]\n",
    "          .rename(columns={\"countryiso3code\": \"iso3\", \"date\": \"year\"}))\n",
    "\n",
    "infl[\"year\"]  = infl[\"year\"].astype(int)\n",
    "infl[\"value\"] = pd.to_numeric(infl[\"value\"], errors=\"coerce\")\n",
    "\n",
    "# keep the latest non‑null per country\n",
    "infl = (infl.dropna(subset=[\"value\"])\n",
    "            .sort_values(\"year\")\n",
    "            .drop_duplicates(\"iso3\", keep=\"last\"))\n",
    "\n",
    "infl = clean_iso(infl)\n",
    "infl.to_csv(f\"{RAW_EXT}/inflation_pct_wb.csv\", index=False)\n",
    "print(\"✅ inflation rows:\", len(infl), \"| snapshot years span:\",\n",
    "      infl[\"year\"].min(), \"–\", infl[\"year\"].max())\n"
   ]
  },
  {
   "cell_type": "code",
   "execution_count": 7,
   "id": "0d7c621f",
   "metadata": {},
   "outputs": [
    {
     "name": "stdout",
     "output_type": "stream",
     "text": [
      "✅ WGI rows: 215\n"
     ]
    }
   ],
   "source": [
    "wgi_url = (\"https://api.worldbank.org/v2/country/all/indicator/GE.EST\"\n",
    "           \"?format=json&per_page=20000&mrv=1\")\n",
    "_, data = requests.get(wgi_url, timeout=30).json()\n",
    "\n",
    "wgi = (pd.json_normalize(data)\n",
    "         .loc[:, [\"countryiso3code\", \"date\", \"value\"]]\n",
    "         .rename(columns={\"countryiso3code\": \"iso3\", \"date\": \"year\"}))\n",
    "wgi[\"year\"]  = wgi[\"year\"].astype(int)\n",
    "wgi[\"value\"] = pd.to_numeric(wgi[\"value\"], errors=\"coerce\")\n",
    "wgi = clean_iso(wgi)\n",
    "\n",
    "wgi.to_csv(f\"{RAW_EXT}/wgi_gov_effectiveness.csv\", index=False)\n",
    "print(\"✅ WGI rows:\", len(wgi))"
   ]
  },
  {
   "cell_type": "code",
   "execution_count": 14,
   "id": "04e6f6b6",
   "metadata": {},
   "outputs": [
    {
     "name": "stdout",
     "output_type": "stream",
     "text": [
      "✅ WB military rows: 154\n"
     ]
    }
   ],
   "source": [
    "# Military Expenditure, constant 2015 USD\n",
    "wb_mil_url = (\"https://api.worldbank.org/v2/country/all/indicator/MS.MIL.XPND.CN\"\n",
    "              \"?format=json&per_page=20000&mrv=3\")\n",
    "\n",
    "_, data = requests.get(wb_mil_url, timeout=30).json()\n",
    "\n",
    "mil = (pd.json_normalize(data)\n",
    "         .loc[:, [\"countryiso3code\", \"date\", \"value\"]]\n",
    "         .rename(columns={\"countryiso3code\": \"iso3\", \"date\": \"year\"}))\n",
    "\n",
    "mil[\"year\"]  = mil[\"year\"].astype(int)\n",
    "mil[\"value\"] = pd.to_numeric(mil[\"value\"], errors=\"coerce\")\n",
    "\n",
    "mil = (mil.dropna(subset=[\"value\"])\n",
    "          .sort_values(\"year\")\n",
    "          .drop_duplicates(\"iso3\", keep=\"last\"))\n",
    "\n",
    "mil = clean_iso(mil)\n",
    "mil.to_csv(f\"{RAW_EXT}/military_expenditure_constusd.csv\", index=False)\n",
    "print(\"✅ WB military rows:\", len(mil))\n"
   ]
  },
  {
   "cell_type": "code",
   "execution_count": 15,
   "id": "990ae329",
   "metadata": {},
   "outputs": [
    {
     "name": "stdout",
     "output_type": "stream",
     "text": [
      "inflation_pct_wb.csv                     rows: 175\n",
      "literacy_rate_unesco.csv                 rows: 95\n",
      "military_expenditure_constusd.csv        rows: 154\n",
      "wgi_gov_effectiveness.csv                rows: 215\n",
      "🎉  Extra sources downloaded.\n"
     ]
    }
   ],
   "source": [
    "for f in sorted(os.listdir(RAW_EXT)):\n",
    "    rows = pd.read_csv(f\"{RAW_EXT}/{f}\").shape[0]\n",
    "    print(f\"{f:<40} rows: {rows}\")\n",
    "print(\"🎉  Extra sources downloaded.\")"
   ]
  }
 ],
 "metadata": {
  "kernelspec": {
   "display_name": "env1",
   "language": "python",
   "name": "env1"
  },
  "language_info": {
   "codemirror_mode": {
    "name": "ipython",
    "version": 3
   },
   "file_extension": ".py",
   "mimetype": "text/x-python",
   "name": "python",
   "nbconvert_exporter": "python",
   "pygments_lexer": "ipython3",
   "version": "3.12.3"
  }
 },
 "nbformat": 4,
 "nbformat_minor": 5
}
