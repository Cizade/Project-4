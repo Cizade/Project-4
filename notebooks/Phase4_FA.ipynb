{
 "cells": [
  {
   "cell_type": "code",
   "execution_count": 1,
   "id": "ef961803",
   "metadata": {},
   "outputs": [],
   "source": [
    "import pandas as pd\n",
    "import matplotlib.pyplot as plt\n",
    "import seaborn as sns\n",
    "import numpy as np\n",
    "import scipy                         \n",
    "scipy.sum = np.sum \n",
    "from factor_analyzer import FactorAnalyzer, calculate_bartlett_sphericity, calculate_kmo\n",
    "\n",
    "# 1) Load scaled master table (from step 4)\n",
    "scaled = pd.read_csv(\"data/clean/country_scaled_master.csv\", index_col=None)\n",
    "scaled = scaled.set_index(\"iso3\")\n",
    "\n",
    "# 2) Define your pillar columns again\n",
    "demo_cols = [\"total_population\", \"population_density\", \"urbanization_rate\",\n",
    "             \"population_growth_pct\", \"literacy_rate_unesco\", \"life_expectancy\"]\n",
    "econ_cols = [\"gdp_total_usd\", \"gdp_per_capita_ppp\", \"real_gdp_growth_pct\",\n",
    "             \"inflation_pct_wb\", \"unemployment_rate\"]\n",
    "influ_cols = [\"military_expenditure_pct_gdp\", \"military_expenditure_constusd\",\n",
    "              \"wgi_gov_effectiveness\", \"Corruption_Perception_Index_2024_iso3\"]\n",
    "\n",
    "pillars = {\n",
    "    \"Demographic\": demo_cols,\n",
    "    \"Economic\"   : econ_cols,\n",
    "    \"Influence\"  : influ_cols\n",
    "}"
   ]
  },
  {
   "cell_type": "code",
   "execution_count": 2,
   "id": "6b184631",
   "metadata": {},
   "outputs": [],
   "source": [
    "def fa_diagnostics(df, cols):\n",
    "    \"\"\"Run Bartlett’s test, KMO, eigenvalues table.\"\"\"\n",
    "    X = df[cols].values\n",
    "    chi2, p = calculate_bartlett_sphericity(X)\n",
    "    kmo_all, kmo_model = calculate_kmo(X)\n",
    "    print(f\"Bartlett p‑value = {p:.5f}  (want < .05)\")\n",
    "    print(f\"KMO overall     = {kmo_model:.3f}  (want > .6)\")\n",
    "    # eigenvalues from correlation matrix\n",
    "    eig_vals, _ = np.linalg.eig(np.corrcoef(X.T))\n",
    "    print(\"Eigenvalues:\", np.round(sorted(eig_vals, reverse=True), 3))\n"
   ]
  },
  {
   "cell_type": "code",
   "execution_count": 3,
   "id": "9bc13440",
   "metadata": {},
   "outputs": [
    {
     "name": "stdout",
     "output_type": "stream",
     "text": [
      "\n",
      "— DEMOGRAPHIC pillar —\n",
      "Bartlett p‑value = 0.00000  (want < .05)\n",
      "KMO overall     = 0.671  (want > .6)\n",
      "Eigenvalues: [2.173 1.077 0.998 0.826 0.555 0.371]\n",
      "\n",
      "— ECONOMIC pillar —\n",
      "Bartlett p‑value = 0.00310  (want < .05)\n",
      "KMO overall     = 0.535  (want > .6)\n",
      "Eigenvalues: [1.356 1.1   0.937 0.875 0.732]\n",
      "\n",
      "— INFLUENCE pillar —\n",
      "Bartlett p‑value = 0.00000  (want < .05)\n",
      "KMO overall     = 0.509  (want > .6)\n",
      "Eigenvalues: [1.651 1.026 0.938 0.384]\n"
     ]
    }
   ],
   "source": [
    "for key, cols in pillars.items():\n",
    "    print(f\"\\n— {key.upper()} pillar —\")\n",
    "    fa_diagnostics(scaled, cols)\n"
   ]
  },
  {
   "cell_type": "code",
   "execution_count": 4,
   "id": "192a6a2b",
   "metadata": {},
   "outputs": [
    {
     "name": "stdout",
     "output_type": "stream",
     "text": [
      "\n",
      "— DEMOGRAPHIC Factor Loadings —\n"
     ]
    },
    {
     "name": "stderr",
     "output_type": "stream",
     "text": [
      "c:\\Users\\caded\\anaconda3\\envs\\env1\\Lib\\site-packages\\sklearn\\utils\\deprecation.py:151: FutureWarning: 'force_all_finite' was renamed to 'ensure_all_finite' in 1.6 and will be removed in 1.8.\n",
      "  warnings.warn(\n",
      "c:\\Users\\caded\\anaconda3\\envs\\env1\\Lib\\site-packages\\sklearn\\utils\\deprecation.py:151: FutureWarning: 'force_all_finite' was renamed to 'ensure_all_finite' in 1.6 and will be removed in 1.8.\n",
      "  warnings.warn(\n"
     ]
    },
    {
     "data": {
      "text/html": [
       "<div>\n",
       "<style scoped>\n",
       "    .dataframe tbody tr th:only-of-type {\n",
       "        vertical-align: middle;\n",
       "    }\n",
       "\n",
       "    .dataframe tbody tr th {\n",
       "        vertical-align: top;\n",
       "    }\n",
       "\n",
       "    .dataframe thead th {\n",
       "        text-align: right;\n",
       "    }\n",
       "</style>\n",
       "<table border=\"1\" class=\"dataframe\">\n",
       "  <thead>\n",
       "    <tr style=\"text-align: right;\">\n",
       "      <th></th>\n",
       "      <th>tota_f1</th>\n",
       "      <th>tota_f2</th>\n",
       "    </tr>\n",
       "  </thead>\n",
       "  <tbody>\n",
       "    <tr>\n",
       "      <th>total_population</th>\n",
       "      <td>-0.000</td>\n",
       "      <td>-0.071</td>\n",
       "    </tr>\n",
       "    <tr>\n",
       "      <th>population_density</th>\n",
       "      <td>-0.004</td>\n",
       "      <td>0.262</td>\n",
       "    </tr>\n",
       "    <tr>\n",
       "      <th>urbanization_rate</th>\n",
       "      <td>0.319</td>\n",
       "      <td>0.621</td>\n",
       "    </tr>\n",
       "    <tr>\n",
       "      <th>population_growth_pct</th>\n",
       "      <td>-0.527</td>\n",
       "      <td>0.071</td>\n",
       "    </tr>\n",
       "    <tr>\n",
       "      <th>literacy_rate_unesco</th>\n",
       "      <td>0.664</td>\n",
       "      <td>0.244</td>\n",
       "    </tr>\n",
       "    <tr>\n",
       "      <th>life_expectancy</th>\n",
       "      <td>0.557</td>\n",
       "      <td>0.648</td>\n",
       "    </tr>\n",
       "  </tbody>\n",
       "</table>\n",
       "</div>"
      ],
      "text/plain": [
       "                       tota_f1  tota_f2\n",
       "total_population        -0.000   -0.071\n",
       "population_density      -0.004    0.262\n",
       "urbanization_rate        0.319    0.621\n",
       "population_growth_pct   -0.527    0.071\n",
       "literacy_rate_unesco     0.664    0.244\n",
       "life_expectancy          0.557    0.648"
      ]
     },
     "metadata": {},
     "output_type": "display_data"
    },
    {
     "name": "stdout",
     "output_type": "stream",
     "text": [
      "Explained var per factor: [0.188 0.157]\n",
      "\n",
      "— ECONOMIC Factor Loadings —\n"
     ]
    },
    {
     "name": "stderr",
     "output_type": "stream",
     "text": [
      "c:\\Users\\caded\\anaconda3\\envs\\env1\\Lib\\site-packages\\sklearn\\utils\\deprecation.py:151: FutureWarning: 'force_all_finite' was renamed to 'ensure_all_finite' in 1.6 and will be removed in 1.8.\n",
      "  warnings.warn(\n",
      "c:\\Users\\caded\\anaconda3\\envs\\env1\\Lib\\site-packages\\sklearn\\utils\\deprecation.py:151: FutureWarning: 'force_all_finite' was renamed to 'ensure_all_finite' in 1.6 and will be removed in 1.8.\n",
      "  warnings.warn(\n"
     ]
    },
    {
     "data": {
      "text/html": [
       "<div>\n",
       "<style scoped>\n",
       "    .dataframe tbody tr th:only-of-type {\n",
       "        vertical-align: middle;\n",
       "    }\n",
       "\n",
       "    .dataframe tbody tr th {\n",
       "        vertical-align: top;\n",
       "    }\n",
       "\n",
       "    .dataframe thead th {\n",
       "        text-align: right;\n",
       "    }\n",
       "</style>\n",
       "<table border=\"1\" class=\"dataframe\">\n",
       "  <thead>\n",
       "    <tr style=\"text-align: right;\">\n",
       "      <th></th>\n",
       "      <th>gdp__f1</th>\n",
       "      <th>gdp__f2</th>\n",
       "    </tr>\n",
       "  </thead>\n",
       "  <tbody>\n",
       "    <tr>\n",
       "      <th>gdp_total_usd</th>\n",
       "      <td>0.268</td>\n",
       "      <td>0.025</td>\n",
       "    </tr>\n",
       "    <tr>\n",
       "      <th>gdp_per_capita_ppp</th>\n",
       "      <td>0.667</td>\n",
       "      <td>0.288</td>\n",
       "    </tr>\n",
       "    <tr>\n",
       "      <th>real_gdp_growth_pct</th>\n",
       "      <td>-0.007</td>\n",
       "      <td>0.275</td>\n",
       "    </tr>\n",
       "    <tr>\n",
       "      <th>inflation_pct_wb</th>\n",
       "      <td>0.061</td>\n",
       "      <td>0.405</td>\n",
       "    </tr>\n",
       "    <tr>\n",
       "      <th>unemployment_rate</th>\n",
       "      <td>0.282</td>\n",
       "      <td>-0.057</td>\n",
       "    </tr>\n",
       "  </tbody>\n",
       "</table>\n",
       "</div>"
      ],
      "text/plain": [
       "                     gdp__f1  gdp__f2\n",
       "gdp_total_usd          0.268    0.025\n",
       "gdp_per_capita_ppp     0.667    0.288\n",
       "real_gdp_growth_pct   -0.007    0.275\n",
       "inflation_pct_wb       0.061    0.405\n",
       "unemployment_rate      0.282   -0.057"
      ]
     },
     "metadata": {},
     "output_type": "display_data"
    },
    {
     "name": "stdout",
     "output_type": "stream",
     "text": [
      "Explained var per factor: [0.12  0.065]\n",
      "\n",
      "— INFLUENCE Factor Loadings —\n"
     ]
    },
    {
     "name": "stderr",
     "output_type": "stream",
     "text": [
      "c:\\Users\\caded\\anaconda3\\envs\\env1\\Lib\\site-packages\\sklearn\\utils\\deprecation.py:151: FutureWarning: 'force_all_finite' was renamed to 'ensure_all_finite' in 1.6 and will be removed in 1.8.\n",
      "  warnings.warn(\n",
      "c:\\Users\\caded\\anaconda3\\envs\\env1\\Lib\\site-packages\\sklearn\\utils\\deprecation.py:151: FutureWarning: 'force_all_finite' was renamed to 'ensure_all_finite' in 1.6 and will be removed in 1.8.\n",
      "  warnings.warn(\n"
     ]
    },
    {
     "data": {
      "text/html": [
       "<div>\n",
       "<style scoped>\n",
       "    .dataframe tbody tr th:only-of-type {\n",
       "        vertical-align: middle;\n",
       "    }\n",
       "\n",
       "    .dataframe tbody tr th {\n",
       "        vertical-align: top;\n",
       "    }\n",
       "\n",
       "    .dataframe thead th {\n",
       "        text-align: right;\n",
       "    }\n",
       "</style>\n",
       "<table border=\"1\" class=\"dataframe\">\n",
       "  <thead>\n",
       "    <tr style=\"text-align: right;\">\n",
       "      <th></th>\n",
       "      <th>mili_f1</th>\n",
       "      <th>mili_f2</th>\n",
       "    </tr>\n",
       "  </thead>\n",
       "  <tbody>\n",
       "    <tr>\n",
       "      <th>military_expenditure_pct_gdp</th>\n",
       "      <td>0.008</td>\n",
       "      <td>0.412</td>\n",
       "    </tr>\n",
       "    <tr>\n",
       "      <th>military_expenditure_constusd</th>\n",
       "      <td>-0.147</td>\n",
       "      <td>-0.089</td>\n",
       "    </tr>\n",
       "    <tr>\n",
       "      <th>wgi_gov_effectiveness</th>\n",
       "      <td>0.816</td>\n",
       "      <td>-0.112</td>\n",
       "    </tr>\n",
       "    <tr>\n",
       "      <th>Corruption_Perception_Index_2024_iso3</th>\n",
       "      <td>0.758</td>\n",
       "      <td>0.072</td>\n",
       "    </tr>\n",
       "  </tbody>\n",
       "</table>\n",
       "</div>"
      ],
      "text/plain": [
       "                                       mili_f1  mili_f2\n",
       "military_expenditure_pct_gdp             0.008    0.412\n",
       "military_expenditure_constusd           -0.147   -0.089\n",
       "wgi_gov_effectiveness                    0.816   -0.112\n",
       "Corruption_Perception_Index_2024_iso3    0.758    0.072"
      ]
     },
     "metadata": {},
     "output_type": "display_data"
    },
    {
     "name": "stdout",
     "output_type": "stream",
     "text": [
      "Explained var per factor: [0.316 0.049]\n"
     ]
    }
   ],
   "source": [
    "# 1) Configure number of factors per pillar\n",
    "n_factors = {\n",
    "    \"Demographic\": 2,   # Demographic\n",
    "    \"Economic\": 2,      # Economic\n",
    "    \"Influence\": 2      # Influence\n",
    "}\n",
    "\n",
    "# 2) Helper to fit FA, rotate, and return loadings & scores\n",
    "def run_fa(df, cols, n, rotation=\"varimax\"):\n",
    "    fa = FactorAnalyzer(n_factors=n, rotation=rotation)\n",
    "    fa.fit(df[cols])\n",
    "    loadings = pd.DataFrame(\n",
    "        fa.loadings_,\n",
    "        index=cols,\n",
    "        columns=[f\"{cols[0][:4]}_f{i+1}\" for i in range(n)]\n",
    "    )\n",
    "    scores = pd.DataFrame(\n",
    "        fa.transform(df[cols]),\n",
    "        columns=loadings.columns,\n",
    "        index=df.index\n",
    "    )\n",
    "    return loadings, scores, fa.get_factor_variance()[1]  # [1] = prop var per factor\n",
    "\n",
    "# 3) Run it for each pillar\n",
    "fa_loadings = {}\n",
    "fa_scores   = {}\n",
    "fa_evr      = {}\n",
    "\n",
    "for key, cols in pillars.items():\n",
    "    load, scores, evr = run_fa(scaled, cols, n_factors[key])\n",
    "    fa_loadings[key] = load\n",
    "    fa_scores[key]   = scores\n",
    "    fa_evr[key]      = evr\n",
    "    print(f\"\\n— {key.upper()} Factor Loadings —\")\n",
    "    display(load.round(3))            # Jupyter display of the loadings\n",
    "    print(f\"Explained var per factor: {np.round(evr,3)}\")"
   ]
  },
  {
   "cell_type": "code",
   "execution_count": 5,
   "id": "318cc35c",
   "metadata": {},
   "outputs": [],
   "source": [
    "# for key, df_scores in fa_scores.items():\n",
    "#     df_scores.to_csv(f\"data/clean/{key}_factor_scores.csv\")"
   ]
  },
  {
   "cell_type": "code",
   "execution_count": 6,
   "id": "dfe557fb",
   "metadata": {},
   "outputs": [],
   "source": [
    "pillar_scores_fa = pd.DataFrame(index=scaled.index)\n",
    "for key, evr in fa_evr.items():\n",
    "    pillar_scores_fa[f\"{key}_wsum\"] = fa_scores[key].mul(evr, axis=1).sum(axis=1)\n",
    "\n",
    "pillar_scores_fa[\"composite_fa\"] = pillar_scores_fa.mean(axis=1)\n",
    "pillar_scores_fa[\"rank_fa\"]      = pillar_scores_fa[\"composite_fa\"].rank(ascending=False, method=\"first\")\n",
    "# pillar_scores_fa.to_csv(\"data/clean/pillar_scores_fa.csv\")"
   ]
  },
  {
   "cell_type": "code",
   "execution_count": 7,
   "id": "29d9e4d6",
   "metadata": {},
   "outputs": [
    {
     "data": {
      "image/png": "[encoded data removed]",
      "text/plain": [
       "<Figure size 640x480 with 1 Axes>"
      ]
     },
     "metadata": {},
     "output_type": "display_data"
    }
   ],
   "source": [
    "top10_fa = pillar_scores_fa.nlargest(10, \"composite_fa\")\n",
    "sns.barplot(x=top10_fa.index, y=top10_fa[\"composite_fa\"])\n",
    "plt.xticks(rotation=45, ha=\"right\")\n",
    "plt.title(\"Top 10 Countries by FA Composite Score\")\n",
    "plt.show()"
   ]
  },
  {
   "cell_type": "code",
   "execution_count": null,
   "id": "36b7a2cc",
   "metadata": {},
   "outputs": [],
   "source": [
    "# pd.DataFrame({\n",
    "#     \"iso3\":       pillar_scores_fa.index,\n",
    "#     \"final_score\": pillar_scores_fa[\"composite_fa\"],\n",
    "#     \"rank\":        pillar_scores_fa[\"composite_fa\"].rank(ascending=False, method=\"first\")\n",
    "# }).to_csv(\"data/clean/final_fa_index.csv\", index=False)"
   ]
  }
 ],
 "metadata": {
  "kernelspec": {
   "display_name": "env1",
   "language": "python",
   "name": "env1"
  },
  "language_info": {
   "codemirror_mode": {
    "name": "ipython",
    "version": 3
   },
   "file_extension": ".py",
   "mimetype": "text/x-python",
   "name": "python",
   "nbconvert_exporter": "python",
   "pygments_lexer": "ipython3",
   "version": "3.12.3"
  }
 },
 "nbformat": 4,
 "nbformat_minor": 5
}
