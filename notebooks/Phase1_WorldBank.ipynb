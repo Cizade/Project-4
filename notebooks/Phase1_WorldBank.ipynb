{
 "cells": [
  {
   "cell_type": "code",
   "execution_count": 1,
   "id": "08b1b1d5",
   "metadata": {},
   "outputs": [],
   "source": [
    "import os, requests, pandas as pd\n",
    "from typing import List, Optional\n",
    "import pycountry"
   ]
  },
  {
   "cell_type": "code",
   "execution_count": 2,
   "id": "b7e9216f",
   "metadata": {},
   "outputs": [],
   "source": [
    "# Raw‐data folder\n",
    "RAW_DIR = \"data/raw/worldbank\"\n",
    "os.makedirs(RAW_DIR, exist_ok=True)"
   ]
  },
  {
   "cell_type": "code",
   "execution_count": 3,
   "id": "865d6809",
   "metadata": {},
   "outputs": [],
   "source": [
    "def fetch_wb_latest(indicator: str,\n",
    "                    iso_list: List[str] | None = None,\n",
    "                    per_page: int = 20_000) -> pd.DataFrame:\n",
    "    \"\"\"\n",
    "    Return the most‑recent value for a World Bank indicator.\n",
    "    Output columns: country, iso3, year, value\n",
    "    \"\"\"\n",
    "    countries = \";\".join(iso_list) if iso_list else \"all\"\n",
    "    url = (f\"https://api.worldbank.org/v2/country/{countries}/indicator/{indicator}\"\n",
    "           f\"?format=json&per_page={per_page}&mrv=1\")\n",
    "    data = requests.get(url, timeout=30).json()[1]           # index 0 = metadata\n",
    "    df = (pd.json_normalize(data)\n",
    "            .loc[:, [\"country.value\", \"country.id\", \"date\", \"value\"]]\n",
    "            .rename(columns={\"country.value\": \"country\",\n",
    "                             \"country.id\":    \"iso3\",\n",
    "                             \"date\":          \"year\"}))\n",
    "    df[\"value\"] = pd.to_numeric(df[\"value\"], errors=\"coerce\")\n",
    "    df[\"year\"]  = df[\"year\"].astype(int)\n",
    "    return df"
   ]
  },
  {
   "cell_type": "code",
   "execution_count": 4,
   "id": "9a1ab248",
   "metadata": {},
   "outputs": [
    {
     "name": "stdout",
     "output_type": "stream",
     "text": [
      "Total ISO‑3 codes: 249\n"
     ]
    }
   ],
   "source": [
    "iso_all = [c.alpha_3 for c in pycountry.countries]\n",
    "print(f\"Total ISO‑3 codes: {len(iso_all)}\")"
   ]
  },
  {
   "cell_type": "code",
   "execution_count": 5,
   "id": "45a93880",
   "metadata": {},
   "outputs": [],
   "source": [
    "wb_metrics = {\n",
    "    # Demographics pillar\n",
    "    \"SP.POP.TOTL\"        : \"total_population\",\n",
    "    \"EN.POP.DNST\"        : \"population_density\",\n",
    "    \"SP.URB.TOTL.IN.ZS\"  : \"urbanization_rate\",\n",
    "    \"SP.POP.GROW\"        : \"population_growth_pct\",\n",
    "    \"SE.ADT.LITR.ZS\"     : \"literacy_rate\",\n",
    "    \"SP.DYN.LE00.IN\"     : \"life_expectancy\",\n",
    "\n",
    "    # Economic pillar\n",
    "    \"NY.GDP.MKTP.CD\"     : \"gdp_total_usd\",\n",
    "    \"NY.GDP.PCAP.PP.CD\"  : \"gdp_per_capita_ppp\",\n",
    "    \"NY.GDP.MKTP.KD.ZG\"  : \"real_gdp_growth_pct\",      # ← replaces IMF metric\n",
    "    \"FP.CPI.TOTL.ZG\"     : \"inflation_cpi_pct\",\n",
    "    \"SL.UEM.TOTL.ZS\"     : \"unemployment_rate\",\n",
    "\n",
    "    # Influence pillar (governance & military proxies via WB)\n",
    "    \"SI.POV.GINI\"        : \"gini_index\",               # inequality proxy\n",
    "    \"MS.MIL.XPND.GD.ZS\"  : \"military_expenditure_pct_gdp\",\n",
    "}\n"
   ]
  },
  {
   "cell_type": "code",
   "execution_count": 6,
   "id": "4e2ce163",
   "metadata": {},
   "outputs": [
    {
     "name": "stdout",
     "output_type": "stream",
     "text": [
      "Downloading SP.POP.TOTL …\n",
      "  Saved → data/raw/worldbank/total_population.csv  (266 rows)\n",
      "Downloading EN.POP.DNST …\n",
      "  Saved → data/raw/worldbank/population_density.csv  (266 rows)\n",
      "Downloading SP.URB.TOTL.IN.ZS …\n",
      "  Saved → data/raw/worldbank/urbanization_rate.csv  (266 rows)\n",
      "Downloading SP.POP.GROW …\n",
      "  Saved → data/raw/worldbank/population_growth_pct.csv  (266 rows)\n",
      "Downloading SE.ADT.LITR.ZS …\n",
      "  Saved → data/raw/worldbank/literacy_rate.csv  (266 rows)\n",
      "Downloading SP.DYN.LE00.IN …\n",
      "  Saved → data/raw/worldbank/life_expectancy.csv  (266 rows)\n",
      "Downloading NY.GDP.MKTP.CD …\n",
      "  Saved → data/raw/worldbank/gdp_total_usd.csv  (266 rows)\n",
      "Downloading NY.GDP.PCAP.PP.CD …\n",
      "  Saved → data/raw/worldbank/gdp_per_capita_ppp.csv  (266 rows)\n",
      "Downloading NY.GDP.MKTP.KD.ZG …\n",
      "  Saved → data/raw/worldbank/real_gdp_growth_pct.csv  (266 rows)\n",
      "Downloading FP.CPI.TOTL.ZG …\n",
      "  Saved → data/raw/worldbank/inflation_cpi_pct.csv  (266 rows)\n",
      "Downloading SL.UEM.TOTL.ZS …\n",
      "  Saved → data/raw/worldbank/unemployment_rate.csv  (266 rows)\n",
      "Downloading SI.POV.GINI …\n",
      "  Saved → data/raw/worldbank/gini_index.csv  (266 rows)\n",
      "Downloading MS.MIL.XPND.GD.ZS …\n",
      "  Saved → data/raw/worldbank/military_expenditure_pct_gdp.csv  (266 rows)\n",
      "World Bank snapshot download complete.\n"
     ]
    }
   ],
   "source": [
    "for code, fname in wb_metrics.items():\n",
    "    print(f\"Downloading {code} …\")\n",
    "    df = fetch_wb_latest(code)               # all countries\n",
    "    out_path = f\"{RAW_DIR}/{fname}.csv\"\n",
    "    df.to_csv(out_path, index=False)\n",
    "    print(f\"  Saved → {out_path}  ({len(df)} rows)\")\n",
    "print(\"World Bank snapshot download complete.\")\n"
   ]
  }
 ],
 "metadata": {
  "kernelspec": {
   "display_name": "env1",
   "language": "python",
   "name": "env1"
  },
  "language_info": {
   "codemirror_mode": {
    "name": "ipython",
    "version": 3
   },
   "file_extension": ".py",
   "mimetype": "text/x-python",
   "name": "python",
   "nbconvert_exporter": "python",
   "pygments_lexer": "ipython3",
   "version": "3.12.3"
  }
 },
 "nbformat": 4,
 "nbformat_minor": 5
}
